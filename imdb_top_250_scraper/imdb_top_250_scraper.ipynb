{
 "cells": [
  {
   "cell_type": "code",
   "execution_count": 5,
   "metadata": {},
   "outputs": [],
   "source": [
    "from selenium import webdriver\n",
    "from selenium.webdriver.chrome.service import Service\n",
    "from webdriver_manager.chrome import ChromeDriverManager\n",
    "from selenium.webdriver.chrome.options import Options\n",
    "from selenium.webdriver.common.by import By\n",
    "import json\n",
    "\n",
    "# initialize Chrome WebDriver\n",
    "options = Options()\n",
    "service = Service(ChromeDriverManager().install())\n",
    "driver = webdriver.Chrome(service=service, options=options)\n",
    "\n",
    "# open the url of the Top 250 movies on IMDb\n",
    "driver.get(\"https://www.imdb.com/chart/top\")\n",
    "\n",
    "# the format of Xpath is from IMDb\n",
    "script_tag = driver.find_element(By.XPATH, '//*[@id=\"__NEXT_DATA__\"]')\n",
    "json_data = script_tag.get_attribute('innerHTML')\n",
    "\n",
    "# print the json data to verify it's correct\n",
    "#print(json_data)\n",
    "\n",
    "# save json data\n",
    "with open('movies_data.json', 'w') as file:\n",
    "    file.write(json_data)\n",
    "\n",
    "# ensure the driver is quit properly\n",
    "driver.quit()\n",
    "\n"
   ]
  },
  {
   "cell_type": "code",
   "execution_count": 6,
   "metadata": {},
   "outputs": [
    {
     "name": "stdout",
     "output_type": "stream",
     "text": [
      "   Rank                     Title  Release Year  Rating                Genres  \\\n",
      "0     1  The Shawshank Redemption          1994     9.3                 Drama   \n",
      "1     2             The Godfather          1972     9.2          Crime, Drama   \n",
      "2     3           The Dark Knight          2008     9.0  Action, Crime, Drama   \n",
      "3     4     The Godfather Part II          1974     9.0          Crime, Drama   \n",
      "4     5              12 Angry Men          1957     9.0          Crime, Drama   \n",
      "\n",
      "                                                Plot  \n",
      "0  Over the course of several years, two convicts...  \n",
      "1  The aging patriarch of an organized crime dyna...  \n",
      "2  When the menace known as the Joker wreaks havo...  \n",
      "3  The early life and career of Vito Corleone in ...  \n",
      "4  The jury in a New York City murder trial is fr...  \n"
     ]
    }
   ],
   "source": [
    "import json\n",
    "import pandas as pd\n",
    "\n",
    "# load json data\n",
    "with open('movies_data.json', 'r') as file:\n",
    "    json_data = file.read()\n",
    "\n",
    "# parse a JSON string\n",
    "data = json.loads(json_data)\n",
    "\n",
    "# extract movie data\n",
    "movies = data['props']['pageProps']['pageData']['chartTitles']['edges']\n",
    "\n",
    "# create a DataFrame\n",
    "rows = []  \n",
    "\n",
    "# extract details from each movie entry and collect them in a list of dictionaries\n",
    "for movie in movies:\n",
    "    current_rank = movie['currentRank']\n",
    "    title = movie['node']['titleText']['text']\n",
    "    year = movie['node']['releaseYear']['year']\n",
    "    rating = movie['node']['ratingsSummary']['aggregateRating']\n",
    "    genres = [genre['genre']['text'] for genre in movie['node']['titleGenres']['genres']]\n",
    "    plot = movie['node']['plot']['plotText']['plainText']\n",
    "    \n",
    "    # Create a structured dictionary to save movie data\n",
    "    row = {\n",
    "        'Rank': current_rank,\n",
    "        'Title': title,\n",
    "        'Release Year': year,\n",
    "        'Rating': rating,\n",
    "        'Genres': ', '.join(genres),\n",
    "        'Plot': plot\n",
    "    }\n",
    "    rows.append(row)\n",
    "\n",
    "# Convert to DataFrame for easy export \n",
    "df = pd.DataFrame(rows)\n",
    "\n",
    "# Display the head of data to verify contents \n",
    "print(df.head())\n",
    "\n",
    "\n",
    "# Save DataFrame to a CSV file\n",
    "df.to_csv('IMDb_Top_250_Movies.csv', index=False)\n"
   ]
  },
  {
   "cell_type": "code",
   "execution_count": null,
   "metadata": {},
   "outputs": [],
   "source": []
  }
 ],
 "metadata": {
  "kernelspec": {
   "display_name": "tf_env",
   "language": "python",
   "name": "python3"
  },
  "language_info": {
   "codemirror_mode": {
    "name": "ipython",
    "version": 3
   },
   "file_extension": ".py",
   "mimetype": "text/x-python",
   "name": "python",
   "nbconvert_exporter": "python",
   "pygments_lexer": "ipython3",
   "version": "3.10.12"
  },
  "orig_nbformat": 4
 },
 "nbformat": 4,
 "nbformat_minor": 2
}
